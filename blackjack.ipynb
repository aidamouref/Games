{
 "cells": [
  {
   "cell_type": "code",
   "execution_count": 2,
   "id": "587872dd-8088-4a56-8be5-0cfdbedb14d8",
   "metadata": {},
   "outputs": [],
   "source": [
    "import random"
   ]
  },
  {
   "cell_type": "code",
   "execution_count": 3,
   "id": "ba862320-44f6-48e6-bdbd-a0dc19950803",
   "metadata": {},
   "outputs": [
    {
     "name": "stdout",
     "output_type": "stream",
     "text": [
      "Welcome to Blackjack!\n",
      "\n",
      "Your cards: ['3', '6'], current score: 9\n",
      "Dealer's first card: 3\n"
     ]
    },
    {
     "name": "stdin",
     "output_type": "stream",
     "text": [
      "Type 'y' to get another card, 'n' to pass:  n\n"
     ]
    },
    {
     "name": "stdout",
     "output_type": "stream",
     "text": [
      "\n",
      "Your final hand: ['3', '6'], final score: 9\n",
      "Dealer's final hand: ['3', '4', '5', '3', 'Q'], final score: 25\n",
      "Dealer busts! You win!\n"
     ]
    }
   ],
   "source": [
    "def draw_card():\n",
    "    cards = [\"2\", \"3\", \"4\", \"5\", \"6\", \"7\", \"8\", \"9\", \"10\", \"J\", \"Q\", \"K\", \"A\"]\n",
    "    return random.choice(cards)\n",
    "def calculate_score(hand):\n",
    "    score = sum([11 if card == \"A\" else 10 if card in [\"K\", \"Q\", \"J\"] else int(card) for card in hand])\n",
    "    if \"A\" in hand and score > 21:\n",
    "        score -= 10  # If there is an Ace and the score is over 21, treat Ace as 1\n",
    "    return score\n",
    "def blackjack():\n",
    "    player_hand = [draw_card(), draw_card()]\n",
    "    dealer_hand = [draw_card()]\n",
    "    print(\"Welcome to Blackjack!\")\n",
    "    while True:\n",
    "        print(f\"\\nYour cards: {player_hand}, current score: {calculate_score(player_hand)}\", flush=True)\n",
    "        print(f\"Dealer's first card: {dealer_hand[0]}\", flush=True)\n",
    "        if calculate_score(player_hand) == 21:\n",
    "            print(\"Blackjack! You win!\", flush=True)\n",
    "            break\n",
    "        action = input(\"Type 'y' to get another card, 'n' to pass: \").lower()\n",
    "        if action == 'y':\n",
    "            player_hand.append(draw_card())\n",
    "            if calculate_score(player_hand) > 21:\n",
    "                print(f\"Your cards: {player_hand}, current score: {calculate_score(player_hand)}\", flush=True)\n",
    "                print(\"Bust! You went over 21. You lose.\", flush=True)\n",
    "                break\n",
    "        elif action == 'n':\n",
    "            while calculate_score(dealer_hand) < 17:\n",
    "                dealer_hand.append(draw_card())\n",
    "            print(f\"\\nYour final hand: {player_hand}, final score: {calculate_score(player_hand)}\", flush=True)\n",
    "            print(f\"Dealer's final hand: {dealer_hand}, final score: {calculate_score(dealer_hand)}\", flush=True)\n",
    "            if calculate_score(dealer_hand) > 21:\n",
    "                print(\"Dealer busts! You win!\", flush=True)\n",
    "            elif calculate_score(player_hand) > calculate_score(dealer_hand):\n",
    "                print(\"You win!\", flush=True)\n",
    "            elif calculate_score(player_hand) < calculate_score(dealer_hand):\n",
    "                print(\"You lose.\", flush=True)\n",
    "            else:\n",
    "                print(\"It's a draw!... So technically, the house wins :no_interesado:\", flush=True)\n",
    "            break\n",
    "        else:\n",
    "            print(\"Invalid input. Type 'y' or 'n'.\")\n",
    "blackjack()"
   ]
  },
  {
   "cell_type": "code",
   "execution_count": null,
   "id": "9219d635-7d39-4c87-b755-de6af04957fc",
   "metadata": {},
   "outputs": [],
   "source": []
  }
 ],
 "metadata": {
  "kernelspec": {
   "display_name": "Python 3 (ipykernel)",
   "language": "python",
   "name": "python3"
  },
  "language_info": {
   "codemirror_mode": {
    "name": "ipython",
    "version": 3
   },
   "file_extension": ".py",
   "mimetype": "text/x-python",
   "name": "python",
   "nbconvert_exporter": "python",
   "pygments_lexer": "ipython3",
   "version": "3.11.7"
  }
 },
 "nbformat": 4,
 "nbformat_minor": 5
}
